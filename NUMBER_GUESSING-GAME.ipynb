{
 "cells": [
  {
   "cell_type": "code",
   "execution_count": null,
   "metadata": {},
   "outputs": [],
   "source": [
    "import random\n",
    "\n",
    "print(\"NUMBER GUESSING GAME\")\n",
    "\n",
    "number = random.randint(1,9)\n",
    "print(number)\n",
    "chances = 0\n",
    "print(\"Guess a number between 1 to 9:\")\n",
    "\n",
    "\n",
    "while(chances<5):\n",
    "    guess = int(input())\n",
    "    print(guess)\n",
    "    if(number==guess):\n",
    "        print(\"Congratulations!!!You won\")\n",
    "        break\n",
    "    elif(guess<number):\n",
    "        print(\"Yours guess is too low:Guess the number greater than:\",guess)\n",
    "    else:\n",
    "        print(\"Your guess is too high: Guess the number lower than:\",guess)\n",
    "        chances += 1\n",
    "if not(chance<5):\n",
    "    print(\"You lost!!The number is\",number)\n",
    "        \n",
    "    "
   ]
  },
  {
   "cell_type": "code",
   "execution_count": null,
   "metadata": {},
   "outputs": [],
   "source": [
    "import random\n",
    "\n",
    "print(\"NUMBER GUESSING GAME\")\n",
    "\n",
    "number = random.randint(1,9)\n",
    "print(number)\n",
    "chances = 0\n",
    "print(\"Guess a number between 1 to 9:\")\n",
    "\n",
    "\n",
    "while(chances<5):\n",
    "    guess = int(input())\n",
    "    print(guess)\n",
    "    if(number==guess):\n",
    "        print(\"Congratulations!!!You won\")\n",
    "        break\n",
    "    elif(guess<number):\n",
    "        print(\"Yours guess is too low:Guess the number greater than:\",guess)\n",
    "    else:\n",
    "        print(\"Your guess is too high: Guess the number lower than:\",guess)\n",
    "        chances += 1\n",
    "if not(chance<5):\n",
    "    print(\"You lost!!The number is\",number)\n",
    "        \n",
    "    "
   ]
  },
  {
   "cell_type": "code",
   "execution_count": null,
   "metadata": {},
   "outputs": [],
   "source": []
  }
 ],
 "metadata": {
  "kernelspec": {
   "display_name": "Python 3",
   "language": "python",
   "name": "python3"
  },
  "language_info": {
   "codemirror_mode": {
    "name": "ipython",
    "version": 3
   },
   "file_extension": ".py",
   "mimetype": "text/x-python",
   "name": "python",
   "nbconvert_exporter": "python",
   "pygments_lexer": "ipython3",
   "version": "3.7.6"
  }
 },
 "nbformat": 4,
 "nbformat_minor": 4
}
