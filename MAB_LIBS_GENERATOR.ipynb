{
 "cells": [
  {
   "cell_type": "code",
   "execution_count": 2,
   "metadata": {},
   "outputs": [
    {
     "name": "stdout",
     "output_type": "stream",
     "text": [
      "Mab Libs\n",
      "Enter an example of each.Remember to use quotation marks\n",
      "Random Name:himansh\n",
      "your_name:teju\n",
      "place:osmanabad\n",
      "Gross himansh pushed teju around the osmanabad\n"
     ]
    }
   ],
   "source": [
    "import random\n",
    "\n",
    "print(\"Mab Libs\")\n",
    "print(\"Enter an example of each.Remember to use quotation marks\")\n",
    "\n",
    "random_name = input(\"Random Name:\")\n",
    "your_name = input(\"your_name:\")\n",
    "place = input(\"place:\")\n",
    "\n",
    "adjs = [\"Crazy\", \"Nice\", \"Lovely\", \"Gross\"]\n",
    "verbs = [\"met\", \"proposed to\",\"robbed\",\"pushed\"]\n",
    "prepositions = [\"above the\",\"near the\",\"around the\",\"behind\",\"beside\"]\n",
    "\n",
    "a = (random.choice(adjs))+ \" \"+ random_name+\" \" +(random.choice(verbs))+\" \"+your_name+\" \"+(random.choice(prepositions))+\" \"+ place\n",
    "print(a)"
   ]
  },
  {
   "cell_type": "code",
   "execution_count": null,
   "metadata": {},
   "outputs": [],
   "source": []
  }
 ],
 "metadata": {
  "kernelspec": {
   "display_name": "Python 3",
   "language": "python",
   "name": "python3"
  },
  "language_info": {
   "codemirror_mode": {
    "name": "ipython",
    "version": 3
   },
   "file_extension": ".py",
   "mimetype": "text/x-python",
   "name": "python",
   "nbconvert_exporter": "python",
   "pygments_lexer": "ipython3",
   "version": "3.7.6"
  }
 },
 "nbformat": 4,
 "nbformat_minor": 4
}
