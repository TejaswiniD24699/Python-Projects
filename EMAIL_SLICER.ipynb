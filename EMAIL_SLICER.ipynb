{
 "cells": [
  {
   "cell_type": "code",
   "execution_count": 2,
   "metadata": {},
   "outputs": [
    {
     "name": "stdout",
     "output_type": "stream",
     "text": [
      "What is your email id?abcd123@gmail.com\n",
      " Your user name is 'abcd123'and domain name is 'gmail.com' \n"
     ]
    }
   ],
   "source": [
    "email_id = input(\"What is your email id?\").strip()\n",
    "\n",
    "user_name = email_id[  :email_id.index(\"@\")]\n",
    "\n",
    "domain_name = email_id[ email_id.index(\"@\")+1:  ]\n",
    "\n",
    "output = \" Your user name is '{}'and domain name is '{}' \".format(user_name,domain_name)\n",
    "\n",
    "print(output)\n",
    "\n"
   ]
  },
  {
   "cell_type": "code",
   "execution_count": null,
   "metadata": {},
   "outputs": [],
   "source": []
  }
 ],
 "metadata": {
  "kernelspec": {
   "display_name": "Python 3",
   "language": "python",
   "name": "python3"
  },
  "language_info": {
   "codemirror_mode": {
    "name": "ipython",
    "version": 3
   },
   "file_extension": ".py",
   "mimetype": "text/x-python",
   "name": "python",
   "nbconvert_exporter": "python",
   "pygments_lexer": "ipython3",
   "version": "3.7.6"
  }
 },
 "nbformat": 4,
 "nbformat_minor": 4
}
