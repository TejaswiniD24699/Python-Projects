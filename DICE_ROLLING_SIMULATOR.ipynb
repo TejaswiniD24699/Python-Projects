{
 "cells": [
  {
   "cell_type": "code",
   "execution_count": null,
   "metadata": {},
   "outputs": [
    {
     "name": "stdout",
     "output_type": "stream",
     "text": [
      "Enter the minimum value of dice1\n",
      "Enter the maximum value of dice6\n",
      "1\n",
      "Want to roll dice again?y\n",
      "4\n",
      "Want to roll dice again?yes\n",
      "3\n"
     ]
    }
   ],
   "source": [
    "import random\n",
    "\n",
    "min_value = int(input(\"Enter the minimum value of dice\"))\n",
    "max_value = int(input(\"Enter the maximum value of dice\"))\n",
    "\n",
    "again = True\n",
    "\n",
    "while again:\n",
    "    print(random.randint(min_value,max_value))\n",
    "    another_roll = input(\"Want to roll dice again?\")\n",
    "    \n",
    "    if (another_roll == \"yes\" or another_roll == \"y\"):\n",
    "        continue\n",
    "    else:\n",
    "        break\n",
    "        \n",
    "    "
   ]
  },
  {
   "cell_type": "code",
   "execution_count": null,
   "metadata": {},
   "outputs": [],
   "source": []
  },
  {
   "cell_type": "code",
   "execution_count": null,
   "metadata": {},
   "outputs": [],
   "source": []
  }
 ],
 "metadata": {
  "kernelspec": {
   "display_name": "Python 3",
   "language": "python",
   "name": "python3"
  },
  "language_info": {
   "codemirror_mode": {
    "name": "ipython",
    "version": 3
   },
   "file_extension": ".py",
   "mimetype": "text/x-python",
   "name": "python",
   "nbconvert_exporter": "python",
   "pygments_lexer": "ipython3",
   "version": "3.7.6"
  }
 },
 "nbformat": 4,
 "nbformat_minor": 4
}
